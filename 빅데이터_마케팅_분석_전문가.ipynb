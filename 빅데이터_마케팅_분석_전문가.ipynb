{
  "nbformat": 4,
  "nbformat_minor": 0,
  "metadata": {
    "colab": {
      "provenance": [],
      "mount_file_id": "1g-VA5M5U64hEleZRH829aItM3e5pRtUR",
      "authorship_tag": "ABX9TyOlBPcjMkjr27Tzb2S/Ml3X",
      "include_colab_link": true
    },
    "kernelspec": {
      "name": "python3",
      "display_name": "Python 3"
    },
    "language_info": {
      "name": "python"
    }
  },
  "cells": [
    {
      "cell_type": "markdown",
      "metadata": {
        "id": "view-in-github",
        "colab_type": "text"
      },
      "source": [
        "<a href=\"https://colab.research.google.com/github/Fundkdh/algorithm-2022/blob/main/%EB%B9%85%EB%8D%B0%EC%9D%B4%ED%84%B0_%EB%A7%88%EC%BC%80%ED%8C%85_%EB%B6%84%EC%84%9D_%EC%A0%84%EB%AC%B8%EA%B0%80.ipynb\" target=\"_parent\"><img src=\"https://colab.research.google.com/assets/colab-badge.svg\" alt=\"Open In Colab\"/></a>"
      ]
    },
    {
      "cell_type": "code",
      "execution_count": 1,
      "metadata": {
        "id": "CfgJs5PHa85b"
      },
      "outputs": [],
      "source": [
        "#인공 신경망\n",
        "\n",
        "import pandas as pd\n",
        "df = pd.read_csv(\"/content/drive/MyDrive/Colab Notebooks/Ashopping.csv\", encoding = \"cp949\")"
      ]
    },
    {
      "cell_type": "code",
      "source": [
        "from sklearn.model_selection import train_test_split\n",
        "from sklearn.compose import ColumnTransformer\n",
        "from sklearn.preprocessing import StandardScaler\n",
        "from sklearn.preprocessing import OneHotEncoder\n",
        "from imblearn.over_sampling import SMOTE"
      ],
      "metadata": {
        "id": "ZuN433Xkbxyd"
      },
      "execution_count": 2,
      "outputs": []
    },
    {
      "cell_type": "code",
      "source": [
        "df.columns"
      ],
      "metadata": {
        "colab": {
          "base_uri": "https://localhost:8080/"
        },
        "id": "d4FHRLSqczEu",
        "outputId": "5a443438-679f-4750-88c5-657cc4f6ecc8"
      },
      "execution_count": 3,
      "outputs": [
        {
          "output_type": "execute_result",
          "data": {
            "text/plain": [
              "Index(['고객ID', '이탈여부', '총매출액', '구매금액대', '방문빈도', '1회 평균매출액', '할인권 사용 횟수',\n",
              "       '총 할인 금액', '고객등급', '구매유형', '클레임접수여부', '구매카테고리수', '거주지역', '성별', '고객 나이대',\n",
              "       '거래기간', '할인민감여부', 'Recency', 'Frequency', 'Monetary', '평균 구매주기'],\n",
              "      dtype='object')"
            ]
          },
          "metadata": {},
          "execution_count": 3
        }
      ]
    },
    {
      "cell_type": "code",
      "source": [
        "#분류 예측\n",
        "\n",
        "# 1. 변수 선택\n",
        "\n",
        "X= df[['총매출액', '구매금액대', '1회 평균매출액', '평균 구매주기', '거래기간']]\n",
        "Y= df[\"할인민감여부\"]\n",
        "#2 train -test split\n",
        "X_train, X_test, Y_train, Y_test = train_test_split(X, Y, test_size=0.3, random_state=0)\n",
        "#3 데이터 전처리(preprocessing)\n",
        "ct =ColumnTransformer([(\"scaling\", StandardScaler(), ['총매출액', '1회 평균매출액', '평균 구매주기', '거래기간'])\n",
        ",(\"onehot\", OneHotEncoder(sparse = False), ['구매금액대'])])\n",
        "\n",
        "ct.fit(X_train)\n",
        "ct.transform(X_train)\n",
        "X_train = ct.transform(X_train)\n",
        "X_test = ct.transform(X_test)\n",
        "#4 오버샘플링\n",
        "smote = SMOTE(random_state=0)\n",
        "X_train, Y_train = smote.fit_resample(X_train, Y_train)"
      ],
      "metadata": {
        "id": "OR7KX4bwcalc"
      },
      "execution_count": 4,
      "outputs": []
    },
    {
      "cell_type": "code",
      "source": [
        "#5 모델링\n",
        "from sklearn.neural_network import MLPClassifier\n",
        "nn_model = MLPClassifier(random_state=0, alpha = 0.001, hidden_layer_sizes=[50])\n",
        "\n",
        "nn_model.fit(X_train, Y_train)\n",
        "\n",
        "#6 예측\n",
        "Y_pred = nn_model.predict(X_test)"
      ],
      "metadata": {
        "colab": {
          "base_uri": "https://localhost:8080/"
        },
        "id": "YJduix4fhH8f",
        "outputId": "3514e0d5-2513-491e-d97b-caf5c33fc245"
      },
      "execution_count": 5,
      "outputs": [
        {
          "output_type": "stream",
          "name": "stderr",
          "text": [
            "/usr/local/lib/python3.8/dist-packages/sklearn/neural_network/_multilayer_perceptron.py:692: ConvergenceWarning: Stochastic Optimizer: Maximum iterations (200) reached and the optimization hasn't converged yet.\n",
            "  warnings.warn(\n"
          ]
        }
      ]
    },
    {
      "cell_type": "code",
      "source": [
        "#7 결과값 보고\n",
        "print(\"Y 예측값 \\n\", Y_pred)\n",
        "print(\"accuracy(train :{:.3f}\".format(nn_model.score(X_train, Y_train)))\n",
        "from sklearn.metrics import classification_report\n",
        "print(classification_report(Y_test, Y_pred))\n"
      ],
      "metadata": {
        "colab": {
          "base_uri": "https://localhost:8080/"
        },
        "id": "jFj3hdLMhN5R",
        "outputId": "6e433e48-4162-40f8-e3ef-092f224d7ef4"
      },
      "execution_count": 6,
      "outputs": [
        {
          "output_type": "stream",
          "name": "stdout",
          "text": [
            "Y 예측값 \n",
            " [1 1 0 0 1 1 0 0 0 1 0 1 1 0 1 0 1 0 0 0 0 1 0 0 1 1 0 0 0 0 1 1 1 1 1 1 1\n",
            " 0 1 0 0 1 1 1 0 0 1 0 0 0 1 0 0 0 1 1 0 1 1 1 0 1 1 0 0 0 1 1 0 0 1 0 0 0\n",
            " 1 0 0 0 0 1 0 0 0 1 1 1 0 0 1 0 1 0 0 0 0 1 1 0 0 0 1 1 0 1 0 1 1 0 1 1 0\n",
            " 1 1 0 0 0 0 0 0 0 1 0 0 1 0 1 0 0 1 1 0 0 1 1 1 1 0 1 0 1 0 0 0 0 0 1 0 0\n",
            " 1 1 0 0 0 0 0 1 0 0 0 0 1 1 0 0 1 0 0 1 0 0 1 1 0 1 0 1 0 0 1 0 0 0 1 0 1\n",
            " 0 0 1 1 1 0 1 0 1 1 1 1 0 1 0 0 1 0 1 1 0 1 1 1 1 0 0 0 1 0 1 0 0 0 1 1 1\n",
            " 1 0 0 1 1 0 0 1 1 0 0 0 0 0 0 0 0 0 1 0 0 0 1 0 1 0 1 1 0 1 0 0 0 1 1 0 0\n",
            " 0 1 1 1 0 0 0 0 0 1 0 1 1 0 0 1 1 0 0 0 0 1 1 0 1 0 0 1 0 0 0 1 0 1 1 0 0\n",
            " 0 0 0 0]\n",
            "accuracy(train :0.889\n",
            "              precision    recall  f1-score   support\n",
            "\n",
            "           0       0.92      0.89      0.91       177\n",
            "           1       0.85      0.89      0.87       123\n",
            "\n",
            "    accuracy                           0.89       300\n",
            "   macro avg       0.89      0.89      0.89       300\n",
            "weighted avg       0.89      0.89      0.89       300\n",
            "\n"
          ]
        }
      ]
    },
    {
      "cell_type": "code",
      "source": [
        "import numpy as  np\n",
        "#변수 선택\n",
        "\n",
        "X= df[['총매출액', '구매금액대', '1회 평균매출액', '평균 구매주기', '거래기간']]\n",
        "Y= df[\"할인민감여부\"]\n",
        "#2 train -test split\n",
        "X_train, X_test, Y_train, Y_test = train_test_split(X, Y, test_size=0.3, random_state=0)\n",
        "#3 데이터 전처리(preprocessing)\n",
        "ct =ColumnTransformer([(\"scaling\", StandardScaler(), ['총매출액', '1회 평균매출액', '평균 구매주기', '거래기간'])\n",
        ",(\"onehot\", OneHotEncoder(sparse = False), ['구매금액대'])])\n",
        "\n",
        "ct.fit(X_train)\n",
        "ct.transform(X_train)\n",
        "X_train = ct.transform(X_train)\n",
        "X_test = ct.transform(X_test)\n",
        "\n"
      ],
      "metadata": {
        "id": "G0bmkfcspToO"
      },
      "execution_count": 7,
      "outputs": []
    },
    {
      "cell_type": "code",
      "source": [
        "#4 \n",
        "from sklearn.neural_network import MLPRegressor\n",
        "\n",
        "#4-1 모델 생성\n",
        "nn_reg_model = MLPRegressor(random_state =0, alpha =1, max_iter = 1000,\n",
        "                           hidden_layer_sizes= [50, 50])\n",
        "\n",
        "#5모형학습 및 예측 \n",
        "nn_reg_model.fit(X_train, Y_train)\n",
        "Y_pred = nn_reg_model.predict(X_test)\n",
        "\n",
        "#6\n",
        "print(\"Y predict value : \\n\", Y_pred)\n",
        "print(\"train accuracy: {:.3f}\".format(nn_reg_model.score(X_train, Y_train)))\n",
        "from sklearn.metrics import mean_squared_error\n",
        "from math import sqrt\n",
        "rmse = sqrt(mean_squared_error(Y_test, Y_pred))\n",
        "print(\"RMSE: {:.3f}\".format(rmse))"
      ],
      "metadata": {
        "colab": {
          "base_uri": "https://localhost:8080/"
        },
        "id": "l92dkI68qFhT",
        "outputId": "5f0d7aeb-ba38-41cc-9563-ab0f38de0db7"
      },
      "execution_count": 8,
      "outputs": [
        {
          "output_type": "stream",
          "name": "stdout",
          "text": [
            "Y predict value : \n",
            " [ 5.66197968e-01  9.48462925e-01  4.06696858e-01  4.04310047e-01\n",
            "  6.62675216e-01  1.13142450e+00  1.03459517e-01  8.41635186e-02\n",
            "  1.45914597e-01  8.05569653e-01  5.30466474e-02  4.66355862e-01\n",
            "  9.08320540e-01  4.79464393e-02  1.32646238e+00  2.31638518e-01\n",
            "  8.73305711e-01  6.97881413e-03 -6.90441378e-03  1.63307510e-02\n",
            "  6.03229027e-02  4.23902334e-01 -2.35408070e-03  1.21523435e-01\n",
            "  5.59707367e-01  8.76286927e-01  2.52760703e-02  7.07014677e-02\n",
            "  9.16146581e-02  1.03091105e-02  6.28736175e-01  7.69093969e-01\n",
            "  5.59507113e-01  1.26394830e+00  5.15444029e-01  8.75918953e-01\n",
            "  1.12684830e+00 -1.90035267e-02  1.12272285e+00  2.16486494e-01\n",
            "  5.41664170e-02  1.05862580e+00  7.11950958e-01  8.59343317e-01\n",
            "  2.66954512e-02  3.86259788e-02  9.07579188e-01  5.46738434e-02\n",
            "  2.88083384e-02  6.61604529e-02  6.21358040e-01  9.89825019e-02\n",
            "  1.04174996e-01  3.66755445e-02  6.15521790e-01  5.00887864e-01\n",
            "  1.51105026e-02  4.88526456e-01  1.17239148e+00  7.36129671e-01\n",
            "  1.02538656e-01  6.58028114e-01  9.17692194e-01  2.83673484e-01\n",
            "  3.10743779e-01  1.19449003e-01  9.84180843e-01  4.32504167e-01\n",
            "  8.36537172e-02  8.93544776e-02  9.04572817e-01 -3.60807266e-02\n",
            "  2.39774654e-02  1.02551209e-01  1.06942914e+00 -1.90945286e-03\n",
            "  2.93068853e-01  1.33279201e-01  7.58699922e-02  6.45764928e-01\n",
            "  2.72991954e-02  3.15209431e-01  9.15673461e-02  1.05467457e+00\n",
            "  9.84593059e-01  6.90055410e-01  9.87459380e-02  3.62521699e-01\n",
            "  5.10646112e-01 -2.20732776e-03  8.77866806e-01  2.49991364e-02\n",
            "  4.21256193e-02  1.04336199e-01  5.87150076e-02  9.91178418e-01\n",
            "  1.04473770e+00  4.54326821e-01  1.39001958e-01  8.26989094e-02\n",
            "  9.07179430e-01  1.00648968e+00  6.76128457e-02  1.07447111e+00\n",
            "  2.91310697e-02  6.58305392e-01  5.66422043e-01  2.15909635e-02\n",
            "  1.15306799e+00  8.59062764e-01  7.33466687e-02  1.04344291e+00\n",
            "  3.96839276e-01  6.19278537e-02  1.42239915e-01  2.17517160e-01\n",
            "  1.96155842e-01  6.17976634e-02  3.15087212e-01  1.44881945e-02\n",
            "  9.61914280e-01  6.54476078e-04  7.15847720e-02  1.06695408e+00\n",
            "  1.17952987e-01  9.08554332e-01  1.63399931e-01  1.06356744e-01\n",
            "  1.16168976e+00  6.42227691e-01  7.86654945e-02  1.80130940e-02\n",
            "  6.95114939e-01  8.54536481e-01  7.95866734e-01  5.90746590e-01\n",
            "  1.05243420e-01  7.45434293e-01  4.45858706e-01  8.39793122e-01\n",
            "  4.30318500e-01  2.48677536e-01  9.00841190e-02 -4.33792564e-02\n",
            "  2.19635086e-01  8.28226000e-01  4.12431458e-02  2.19022431e-01\n",
            "  6.28796553e-01  7.08785611e-01  2.18851189e-02  9.85275999e-02\n",
            "  2.14449567e-01  3.83574935e-03  2.77290141e-02  1.11463054e+00\n",
            "  3.11530717e-01  1.62752006e-01  6.50581766e-02  5.59135206e-02\n",
            "  4.95567805e-01  1.03560518e+00  3.90562022e-02  4.06733526e-02\n",
            "  1.04063924e+00  9.33622539e-02  2.70747013e-01  1.02671445e+00\n",
            "  1.46814755e-01  4.30702278e-01  4.34071552e-01  8.73514818e-01\n",
            "  1.35622457e-01  9.59200982e-01  6.27715703e-02  4.68084655e-01\n",
            "  8.75197743e-02  9.16158649e-02  9.88359983e-01  1.48098996e-01\n",
            "  2.74109575e-02 -6.59422646e-03  4.01451742e-01  1.20848160e-01\n",
            "  1.04861203e+00  6.83488136e-02  1.56719298e-02  9.07155345e-01\n",
            "  8.34303419e-01  9.76235184e-01  3.00326897e-02  9.11085077e-01\n",
            "  2.73015428e-01  6.65660701e-01  8.26597791e-01  7.42298366e-01\n",
            "  8.91462770e-01  8.15012969e-02  6.42515846e-01  4.10419984e-01\n",
            "  3.99184883e-01  4.09155093e-01  8.59478317e-02  1.01261764e+00\n",
            "  1.02426672e+00  8.41893309e-02  9.43579186e-01  5.15172191e-01\n",
            "  4.30416606e-01  1.01679777e+00  6.27260374e-02  6.69706129e-02\n",
            "  3.34336351e-02  5.68512112e-01  3.71085497e-02  9.40234310e-01\n",
            "  8.46399126e-02  7.12276335e-02 -8.67736414e-03  5.08543959e-01\n",
            "  8.99274067e-01  5.36292518e-01  1.17042831e+00  1.01250968e-01\n",
            "  7.74600627e-02  1.08666015e+00  5.74157589e-01  8.36340674e-02\n",
            "  7.44786648e-02  7.03574293e-01  4.37075389e-01  4.85310200e-01\n",
            "  4.37653180e-03  3.90861437e-03  1.45915266e-01  1.45369623e-01\n",
            "  2.01756907e-01  1.07586515e-01  2.30253745e-02  1.46379401e-01\n",
            "  4.51124684e-01  4.45602626e-02  5.09250691e-02  6.99100290e-02\n",
            "  1.08469483e+00  3.20815299e-02  1.08749058e+00 -6.78345841e-03\n",
            "  1.05396127e+00  7.13984874e-01  6.29532885e-02  7.29968313e-01\n",
            "  5.99007388e-02  1.83976038e-02 -6.73796016e-03  8.56210102e-01\n",
            "  6.31397910e-01  3.09693879e-02  1.35543971e-01  1.08692428e-01\n",
            "  1.04611958e+00  7.34759698e-01  3.36523118e-01  9.57871899e-02\n",
            "  2.01370554e-02  2.86375525e-01  4.41187758e-01  6.01974525e-02\n",
            "  9.79911262e-01  3.12448010e-01  7.78700298e-01  5.59888269e-01\n",
            "  5.07880959e-03  2.05897337e-01  8.41931228e-01  9.88781890e-01\n",
            "  1.51725967e-01  5.69032268e-02  3.47607725e-01  7.75306692e-02\n",
            "  1.00167134e+00  6.63409147e-01  5.15481546e-02  6.33525148e-01\n",
            "  5.67687039e-02  1.09328282e-01  1.00030557e+00  4.63826021e-02\n",
            "  1.60152731e-01 -1.93706262e-02  6.30510949e-01  5.94660674e-02\n",
            "  8.51286594e-01  8.20708705e-01  1.69099116e-01  1.68510423e-01\n",
            "  1.75969516e-01  6.58987766e-02  9.02742444e-02  7.11706568e-02]\n",
            "train accuracy: 0.674\n",
            "RMSE: 0.293\n"
          ]
        }
      ]
    },
    {
      "cell_type": "code",
      "source": [],
      "metadata": {
        "id": "Z6a_dMk14tqg"
      },
      "execution_count": 8,
      "outputs": []
    },
    {
      "cell_type": "markdown",
      "source": [
        "# 딥러닝닝"
      ],
      "metadata": {
        "id": "-sQxLqSguMZe"
      }
    },
    {
      "cell_type": "code",
      "source": [
        "#딥러닝\n",
        "\n",
        "###경고문 제거\n",
        "import warnings\n",
        "warnings.filterwarnings(\"ignore\")"
      ],
      "metadata": {
        "id": "NsfYB46NucjW"
      },
      "execution_count": 9,
      "outputs": []
    },
    {
      "cell_type": "code",
      "source": [
        "X= df[['총매출액', '구매금액대', '1회 평균매출액', '평균 구매주기', '거래기간']]\n",
        "Y= df[\"할인민감여부\"]\n",
        "#2 train -test split\n",
        "X_train, X_test, Y_train, Y_test = train_test_split(X, Y, test_size=0.3, random_state=0)\n",
        "#3 데이터 전처리(preprocessing)\n",
        "ct =ColumnTransformer([(\"scaling\", StandardScaler(), ['총매출액', '1회 평균매출액', '평균 구매주기', '거래기간'])\n",
        ",(\"onehot\", OneHotEncoder(sparse = False), ['구매금액대'])])\n",
        "\n",
        "ct.fit(X_train)\n",
        "ct.transform(X_train)\n",
        "X_train = ct.transform(X_train)\n",
        "X_test = ct.transform(X_test)\n",
        "#4 오버샘플링\n",
        "smote = SMOTE(random_state=0)\n",
        "X_train, Y_train = smote.fit_resample(X_train, Y_train)"
      ],
      "metadata": {
        "id": "EfxzUGTFuhha"
      },
      "execution_count": 10,
      "outputs": []
    },
    {
      "cell_type": "code",
      "source": [
        "import keras \n",
        "import tensorflow as tf\n",
        "import numpy as  np\n",
        "\n",
        "from keras.models import Sequential\n",
        "from keras.layers import Dense, Activation\n",
        "from keras.metrics import Accuracy\n",
        "\n",
        "#5 시드값 설정\n",
        "np.random.seed(0)\n",
        "tf.random.set_seed(0)\n",
        "\n",
        "#모형 생성m\n",
        "model = keras.models.Sequential()\n",
        "model.add(keras.layers.Dense(64, input_dim=7, activation =\"relu\"))\n",
        "model.add(keras.layers.Dense(64, activation = \"relu\"))\n",
        "model.add(keras.layers.Dense(1, activation = \"sigmoid\"))\n",
        "\n",
        "#7 모형학습\n",
        "model.compile(loss = \"binary_crossentropy\", optimizer = \"adam\", metrics = [\"accuracy\"])\n",
        "history = model.fit(X_train, Y_train, validation_split = 0.2, epochs = 100,\n",
        "                    batch_size = 64, verbose = 2)"
      ],
      "metadata": {
        "colab": {
          "base_uri": "https://localhost:8080/"
        },
        "id": "QjBvSR3OuuKj",
        "outputId": "ffaa7211-9547-44ad-93c4-4416815221d0"
      },
      "execution_count": 11,
      "outputs": [
        {
          "output_type": "stream",
          "name": "stdout",
          "text": [
            "Epoch 1/100\n",
            "11/11 - 2s - loss: 0.6829 - accuracy: 0.5888 - val_loss: 0.6856 - val_accuracy: 0.6529 - 2s/epoch - 179ms/step\n",
            "Epoch 2/100\n",
            "11/11 - 0s - loss: 0.5836 - accuracy: 0.8254 - val_loss: 0.6330 - val_accuracy: 0.6471 - 140ms/epoch - 13ms/step\n",
            "Epoch 3/100\n",
            "11/11 - 0s - loss: 0.5174 - accuracy: 0.8284 - val_loss: 0.6003 - val_accuracy: 0.6765 - 283ms/epoch - 26ms/step\n",
            "Epoch 4/100\n",
            "11/11 - 0s - loss: 0.4679 - accuracy: 0.8328 - val_loss: 0.5588 - val_accuracy: 0.7353 - 96ms/epoch - 9ms/step\n",
            "Epoch 5/100\n",
            "11/11 - 0s - loss: 0.4343 - accuracy: 0.8595 - val_loss: 0.5102 - val_accuracy: 0.8118 - 90ms/epoch - 8ms/step\n",
            "Epoch 6/100\n",
            "11/11 - 0s - loss: 0.4104 - accuracy: 0.8624 - val_loss: 0.5205 - val_accuracy: 0.7882 - 112ms/epoch - 10ms/step\n",
            "Epoch 7/100\n",
            "11/11 - 0s - loss: 0.3902 - accuracy: 0.8713 - val_loss: 0.4881 - val_accuracy: 0.8235 - 95ms/epoch - 9ms/step\n",
            "Epoch 8/100\n",
            "11/11 - 0s - loss: 0.3756 - accuracy: 0.8802 - val_loss: 0.4970 - val_accuracy: 0.8176 - 138ms/epoch - 13ms/step\n",
            "Epoch 9/100\n",
            "11/11 - 0s - loss: 0.3606 - accuracy: 0.8905 - val_loss: 0.4988 - val_accuracy: 0.8235 - 114ms/epoch - 10ms/step\n",
            "Epoch 10/100\n",
            "11/11 - 0s - loss: 0.3481 - accuracy: 0.8876 - val_loss: 0.4776 - val_accuracy: 0.8412 - 95ms/epoch - 9ms/step\n",
            "Epoch 11/100\n",
            "11/11 - 0s - loss: 0.3354 - accuracy: 0.8964 - val_loss: 0.5106 - val_accuracy: 0.8235 - 130ms/epoch - 12ms/step\n",
            "Epoch 12/100\n",
            "11/11 - 0s - loss: 0.3230 - accuracy: 0.8994 - val_loss: 0.4591 - val_accuracy: 0.8529 - 104ms/epoch - 9ms/step\n",
            "Epoch 13/100\n",
            "11/11 - 0s - loss: 0.3110 - accuracy: 0.9038 - val_loss: 0.4816 - val_accuracy: 0.8471 - 102ms/epoch - 9ms/step\n",
            "Epoch 14/100\n",
            "11/11 - 0s - loss: 0.3008 - accuracy: 0.9038 - val_loss: 0.4843 - val_accuracy: 0.8471 - 112ms/epoch - 10ms/step\n",
            "Epoch 15/100\n",
            "11/11 - 0s - loss: 0.2923 - accuracy: 0.9112 - val_loss: 0.4878 - val_accuracy: 0.8529 - 96ms/epoch - 9ms/step\n",
            "Epoch 16/100\n",
            "11/11 - 0s - loss: 0.2855 - accuracy: 0.9172 - val_loss: 0.4796 - val_accuracy: 0.8529 - 132ms/epoch - 12ms/step\n",
            "Epoch 17/100\n",
            "11/11 - 0s - loss: 0.2792 - accuracy: 0.9172 - val_loss: 0.4837 - val_accuracy: 0.8588 - 130ms/epoch - 12ms/step\n",
            "Epoch 18/100\n",
            "11/11 - 0s - loss: 0.2729 - accuracy: 0.9216 - val_loss: 0.4902 - val_accuracy: 0.8588 - 115ms/epoch - 10ms/step\n",
            "Epoch 19/100\n",
            "11/11 - 0s - loss: 0.2664 - accuracy: 0.9157 - val_loss: 0.4760 - val_accuracy: 0.8588 - 130ms/epoch - 12ms/step\n",
            "Epoch 20/100\n",
            "11/11 - 0s - loss: 0.2629 - accuracy: 0.9186 - val_loss: 0.4975 - val_accuracy: 0.8588 - 81ms/epoch - 7ms/step\n",
            "Epoch 21/100\n",
            "11/11 - 0s - loss: 0.2586 - accuracy: 0.9216 - val_loss: 0.4753 - val_accuracy: 0.8529 - 169ms/epoch - 15ms/step\n",
            "Epoch 22/100\n",
            "11/11 - 0s - loss: 0.2545 - accuracy: 0.9216 - val_loss: 0.4969 - val_accuracy: 0.8529 - 86ms/epoch - 8ms/step\n",
            "Epoch 23/100\n",
            "11/11 - 0s - loss: 0.2500 - accuracy: 0.9216 - val_loss: 0.4686 - val_accuracy: 0.8588 - 100ms/epoch - 9ms/step\n",
            "Epoch 24/100\n",
            "11/11 - 0s - loss: 0.2481 - accuracy: 0.9186 - val_loss: 0.4818 - val_accuracy: 0.8588 - 206ms/epoch - 19ms/step\n",
            "Epoch 25/100\n",
            "11/11 - 0s - loss: 0.2481 - accuracy: 0.9186 - val_loss: 0.4760 - val_accuracy: 0.8588 - 120ms/epoch - 11ms/step\n",
            "Epoch 26/100\n",
            "11/11 - 0s - loss: 0.2421 - accuracy: 0.9201 - val_loss: 0.4532 - val_accuracy: 0.8588 - 86ms/epoch - 8ms/step\n",
            "Epoch 27/100\n",
            "11/11 - 0s - loss: 0.2418 - accuracy: 0.9246 - val_loss: 0.4800 - val_accuracy: 0.8588 - 123ms/epoch - 11ms/step\n",
            "Epoch 28/100\n",
            "11/11 - 0s - loss: 0.2370 - accuracy: 0.9260 - val_loss: 0.4627 - val_accuracy: 0.8588 - 89ms/epoch - 8ms/step\n",
            "Epoch 29/100\n",
            "11/11 - 0s - loss: 0.2360 - accuracy: 0.9172 - val_loss: 0.4610 - val_accuracy: 0.8588 - 105ms/epoch - 10ms/step\n",
            "Epoch 30/100\n",
            "11/11 - 0s - loss: 0.2324 - accuracy: 0.9275 - val_loss: 0.4712 - val_accuracy: 0.8529 - 90ms/epoch - 8ms/step\n",
            "Epoch 31/100\n",
            "11/11 - 0s - loss: 0.2309 - accuracy: 0.9290 - val_loss: 0.4492 - val_accuracy: 0.8588 - 84ms/epoch - 8ms/step\n",
            "Epoch 32/100\n",
            "11/11 - 0s - loss: 0.2293 - accuracy: 0.9290 - val_loss: 0.4589 - val_accuracy: 0.8588 - 122ms/epoch - 11ms/step\n",
            "Epoch 33/100\n",
            "11/11 - 0s - loss: 0.2291 - accuracy: 0.9305 - val_loss: 0.4483 - val_accuracy: 0.8588 - 147ms/epoch - 13ms/step\n",
            "Epoch 34/100\n",
            "11/11 - 0s - loss: 0.2252 - accuracy: 0.9290 - val_loss: 0.4475 - val_accuracy: 0.8588 - 90ms/epoch - 8ms/step\n",
            "Epoch 35/100\n",
            "11/11 - 0s - loss: 0.2247 - accuracy: 0.9290 - val_loss: 0.4419 - val_accuracy: 0.8588 - 86ms/epoch - 8ms/step\n",
            "Epoch 36/100\n",
            "11/11 - 0s - loss: 0.2240 - accuracy: 0.9246 - val_loss: 0.4333 - val_accuracy: 0.8647 - 125ms/epoch - 11ms/step\n",
            "Epoch 37/100\n",
            "11/11 - 0s - loss: 0.2223 - accuracy: 0.9305 - val_loss: 0.4677 - val_accuracy: 0.8529 - 91ms/epoch - 8ms/step\n",
            "Epoch 38/100\n",
            "11/11 - 0s - loss: 0.2193 - accuracy: 0.9290 - val_loss: 0.4230 - val_accuracy: 0.8588 - 102ms/epoch - 9ms/step\n",
            "Epoch 39/100\n",
            "11/11 - 0s - loss: 0.2183 - accuracy: 0.9305 - val_loss: 0.4455 - val_accuracy: 0.8588 - 121ms/epoch - 11ms/step\n",
            "Epoch 40/100\n",
            "11/11 - 0s - loss: 0.2165 - accuracy: 0.9334 - val_loss: 0.4343 - val_accuracy: 0.8647 - 120ms/epoch - 11ms/step\n",
            "Epoch 41/100\n",
            "11/11 - 0s - loss: 0.2149 - accuracy: 0.9334 - val_loss: 0.4333 - val_accuracy: 0.8588 - 109ms/epoch - 10ms/step\n",
            "Epoch 42/100\n",
            "11/11 - 0s - loss: 0.2139 - accuracy: 0.9320 - val_loss: 0.4404 - val_accuracy: 0.8588 - 139ms/epoch - 13ms/step\n",
            "Epoch 43/100\n",
            "11/11 - 0s - loss: 0.2145 - accuracy: 0.9260 - val_loss: 0.4200 - val_accuracy: 0.8588 - 104ms/epoch - 9ms/step\n",
            "Epoch 44/100\n",
            "11/11 - 0s - loss: 0.2120 - accuracy: 0.9349 - val_loss: 0.4548 - val_accuracy: 0.8529 - 113ms/epoch - 10ms/step\n",
            "Epoch 45/100\n",
            "11/11 - 0s - loss: 0.2110 - accuracy: 0.9334 - val_loss: 0.4268 - val_accuracy: 0.8647 - 154ms/epoch - 14ms/step\n",
            "Epoch 46/100\n",
            "11/11 - 0s - loss: 0.2082 - accuracy: 0.9364 - val_loss: 0.4381 - val_accuracy: 0.8529 - 98ms/epoch - 9ms/step\n",
            "Epoch 47/100\n",
            "11/11 - 0s - loss: 0.2085 - accuracy: 0.9364 - val_loss: 0.4311 - val_accuracy: 0.8588 - 107ms/epoch - 10ms/step\n",
            "Epoch 48/100\n",
            "11/11 - 0s - loss: 0.2071 - accuracy: 0.9349 - val_loss: 0.4126 - val_accuracy: 0.8647 - 79ms/epoch - 7ms/step\n",
            "Epoch 49/100\n",
            "11/11 - 0s - loss: 0.2064 - accuracy: 0.9379 - val_loss: 0.4292 - val_accuracy: 0.8588 - 172ms/epoch - 16ms/step\n",
            "Epoch 50/100\n",
            "11/11 - 0s - loss: 0.2051 - accuracy: 0.9334 - val_loss: 0.4113 - val_accuracy: 0.8647 - 103ms/epoch - 9ms/step\n",
            "Epoch 51/100\n",
            "11/11 - 0s - loss: 0.2056 - accuracy: 0.9379 - val_loss: 0.4268 - val_accuracy: 0.8588 - 158ms/epoch - 14ms/step\n",
            "Epoch 52/100\n",
            "11/11 - 0s - loss: 0.2044 - accuracy: 0.9349 - val_loss: 0.4156 - val_accuracy: 0.8647 - 217ms/epoch - 20ms/step\n",
            "Epoch 53/100\n",
            "11/11 - 0s - loss: 0.2026 - accuracy: 0.9364 - val_loss: 0.4326 - val_accuracy: 0.8529 - 143ms/epoch - 13ms/step\n",
            "Epoch 54/100\n",
            "11/11 - 0s - loss: 0.2007 - accuracy: 0.9408 - val_loss: 0.4113 - val_accuracy: 0.8647 - 128ms/epoch - 12ms/step\n",
            "Epoch 55/100\n",
            "11/11 - 0s - loss: 0.1997 - accuracy: 0.9393 - val_loss: 0.4058 - val_accuracy: 0.8647 - 93ms/epoch - 8ms/step\n",
            "Epoch 56/100\n",
            "11/11 - 0s - loss: 0.1999 - accuracy: 0.9393 - val_loss: 0.4358 - val_accuracy: 0.8588 - 73ms/epoch - 7ms/step\n",
            "Epoch 57/100\n",
            "11/11 - 0s - loss: 0.1996 - accuracy: 0.9393 - val_loss: 0.3937 - val_accuracy: 0.8647 - 92ms/epoch - 8ms/step\n",
            "Epoch 58/100\n",
            "11/11 - 0s - loss: 0.1997 - accuracy: 0.9364 - val_loss: 0.4277 - val_accuracy: 0.8529 - 112ms/epoch - 10ms/step\n",
            "Epoch 59/100\n",
            "11/11 - 0s - loss: 0.1975 - accuracy: 0.9408 - val_loss: 0.3932 - val_accuracy: 0.8647 - 90ms/epoch - 8ms/step\n",
            "Epoch 60/100\n",
            "11/11 - 0s - loss: 0.1948 - accuracy: 0.9423 - val_loss: 0.4205 - val_accuracy: 0.8588 - 94ms/epoch - 9ms/step\n",
            "Epoch 61/100\n",
            "11/11 - 0s - loss: 0.1951 - accuracy: 0.9438 - val_loss: 0.4008 - val_accuracy: 0.8647 - 138ms/epoch - 13ms/step\n",
            "Epoch 62/100\n",
            "11/11 - 0s - loss: 0.1935 - accuracy: 0.9408 - val_loss: 0.4069 - val_accuracy: 0.8647 - 176ms/epoch - 16ms/step\n",
            "Epoch 63/100\n",
            "11/11 - 0s - loss: 0.1947 - accuracy: 0.9423 - val_loss: 0.4142 - val_accuracy: 0.8588 - 86ms/epoch - 8ms/step\n",
            "Epoch 64/100\n",
            "11/11 - 0s - loss: 0.1929 - accuracy: 0.9438 - val_loss: 0.4039 - val_accuracy: 0.8647 - 157ms/epoch - 14ms/step\n",
            "Epoch 65/100\n",
            "11/11 - 0s - loss: 0.1912 - accuracy: 0.9453 - val_loss: 0.4085 - val_accuracy: 0.8647 - 84ms/epoch - 8ms/step\n",
            "Epoch 66/100\n",
            "11/11 - 0s - loss: 0.1911 - accuracy: 0.9438 - val_loss: 0.4082 - val_accuracy: 0.8647 - 96ms/epoch - 9ms/step\n",
            "Epoch 67/100\n",
            "11/11 - 0s - loss: 0.1901 - accuracy: 0.9438 - val_loss: 0.4114 - val_accuracy: 0.8588 - 101ms/epoch - 9ms/step\n",
            "Epoch 68/100\n",
            "11/11 - 0s - loss: 0.1910 - accuracy: 0.9408 - val_loss: 0.3896 - val_accuracy: 0.8647 - 183ms/epoch - 17ms/step\n",
            "Epoch 69/100\n",
            "11/11 - 0s - loss: 0.1892 - accuracy: 0.9453 - val_loss: 0.3962 - val_accuracy: 0.8647 - 133ms/epoch - 12ms/step\n",
            "Epoch 70/100\n",
            "11/11 - 0s - loss: 0.1887 - accuracy: 0.9408 - val_loss: 0.4095 - val_accuracy: 0.8588 - 88ms/epoch - 8ms/step\n",
            "Epoch 71/100\n",
            "11/11 - 0s - loss: 0.1872 - accuracy: 0.9438 - val_loss: 0.3883 - val_accuracy: 0.8588 - 92ms/epoch - 8ms/step\n",
            "Epoch 72/100\n",
            "11/11 - 0s - loss: 0.1875 - accuracy: 0.9408 - val_loss: 0.3898 - val_accuracy: 0.8647 - 83ms/epoch - 8ms/step\n",
            "Epoch 73/100\n",
            "11/11 - 0s - loss: 0.1867 - accuracy: 0.9482 - val_loss: 0.4074 - val_accuracy: 0.8588 - 88ms/epoch - 8ms/step\n",
            "Epoch 74/100\n",
            "11/11 - 0s - loss: 0.1880 - accuracy: 0.9393 - val_loss: 0.3759 - val_accuracy: 0.8647 - 87ms/epoch - 8ms/step\n",
            "Epoch 75/100\n",
            "11/11 - 0s - loss: 0.1884 - accuracy: 0.9438 - val_loss: 0.4138 - val_accuracy: 0.8588 - 84ms/epoch - 8ms/step\n",
            "Epoch 76/100\n",
            "11/11 - 0s - loss: 0.1838 - accuracy: 0.9423 - val_loss: 0.3702 - val_accuracy: 0.8647 - 94ms/epoch - 9ms/step\n",
            "Epoch 77/100\n",
            "11/11 - 0s - loss: 0.1842 - accuracy: 0.9467 - val_loss: 0.3963 - val_accuracy: 0.8588 - 95ms/epoch - 9ms/step\n",
            "Epoch 78/100\n",
            "11/11 - 0s - loss: 0.1831 - accuracy: 0.9497 - val_loss: 0.3934 - val_accuracy: 0.8588 - 90ms/epoch - 8ms/step\n",
            "Epoch 79/100\n",
            "11/11 - 0s - loss: 0.1830 - accuracy: 0.9467 - val_loss: 0.3960 - val_accuracy: 0.8588 - 106ms/epoch - 10ms/step\n",
            "Epoch 80/100\n",
            "11/11 - 0s - loss: 0.1824 - accuracy: 0.9423 - val_loss: 0.3860 - val_accuracy: 0.8647 - 89ms/epoch - 8ms/step\n",
            "Epoch 81/100\n",
            "11/11 - 0s - loss: 0.1808 - accuracy: 0.9482 - val_loss: 0.3950 - val_accuracy: 0.8588 - 102ms/epoch - 9ms/step\n",
            "Epoch 82/100\n",
            "11/11 - 0s - loss: 0.1814 - accuracy: 0.9482 - val_loss: 0.3916 - val_accuracy: 0.8588 - 102ms/epoch - 9ms/step\n",
            "Epoch 83/100\n",
            "11/11 - 0s - loss: 0.1797 - accuracy: 0.9497 - val_loss: 0.3803 - val_accuracy: 0.8647 - 204ms/epoch - 19ms/step\n",
            "Epoch 84/100\n",
            "11/11 - 0s - loss: 0.1793 - accuracy: 0.9467 - val_loss: 0.3954 - val_accuracy: 0.8588 - 89ms/epoch - 8ms/step\n",
            "Epoch 85/100\n",
            "11/11 - 0s - loss: 0.1794 - accuracy: 0.9453 - val_loss: 0.3924 - val_accuracy: 0.8588 - 73ms/epoch - 7ms/step\n",
            "Epoch 86/100\n",
            "11/11 - 0s - loss: 0.1789 - accuracy: 0.9482 - val_loss: 0.3679 - val_accuracy: 0.8588 - 87ms/epoch - 8ms/step\n",
            "Epoch 87/100\n",
            "11/11 - 0s - loss: 0.1777 - accuracy: 0.9497 - val_loss: 0.3876 - val_accuracy: 0.8588 - 165ms/epoch - 15ms/step\n",
            "Epoch 88/100\n",
            "11/11 - 0s - loss: 0.1773 - accuracy: 0.9512 - val_loss: 0.3835 - val_accuracy: 0.8588 - 106ms/epoch - 10ms/step\n",
            "Epoch 89/100\n",
            "11/11 - 0s - loss: 0.1784 - accuracy: 0.9438 - val_loss: 0.3948 - val_accuracy: 0.8588 - 97ms/epoch - 9ms/step\n",
            "Epoch 90/100\n",
            "11/11 - 0s - loss: 0.1765 - accuracy: 0.9527 - val_loss: 0.3870 - val_accuracy: 0.8588 - 101ms/epoch - 9ms/step\n",
            "Epoch 91/100\n",
            "11/11 - 0s - loss: 0.1758 - accuracy: 0.9497 - val_loss: 0.3666 - val_accuracy: 0.8647 - 85ms/epoch - 8ms/step\n",
            "Epoch 92/100\n",
            "11/11 - 0s - loss: 0.1772 - accuracy: 0.9423 - val_loss: 0.3699 - val_accuracy: 0.8588 - 142ms/epoch - 13ms/step\n",
            "Epoch 93/100\n",
            "11/11 - 0s - loss: 0.1755 - accuracy: 0.9512 - val_loss: 0.3941 - val_accuracy: 0.8588 - 153ms/epoch - 14ms/step\n",
            "Epoch 94/100\n",
            "11/11 - 0s - loss: 0.1753 - accuracy: 0.9467 - val_loss: 0.3659 - val_accuracy: 0.8588 - 87ms/epoch - 8ms/step\n",
            "Epoch 95/100\n",
            "11/11 - 0s - loss: 0.1743 - accuracy: 0.9512 - val_loss: 0.3836 - val_accuracy: 0.8588 - 109ms/epoch - 10ms/step\n",
            "Epoch 96/100\n",
            "11/11 - 0s - loss: 0.1743 - accuracy: 0.9482 - val_loss: 0.3720 - val_accuracy: 0.8588 - 80ms/epoch - 7ms/step\n",
            "Epoch 97/100\n",
            "11/11 - 0s - loss: 0.1739 - accuracy: 0.9527 - val_loss: 0.3804 - val_accuracy: 0.8588 - 107ms/epoch - 10ms/step\n",
            "Epoch 98/100\n",
            "11/11 - 0s - loss: 0.1749 - accuracy: 0.9423 - val_loss: 0.3558 - val_accuracy: 0.8647 - 85ms/epoch - 8ms/step\n",
            "Epoch 99/100\n",
            "11/11 - 0s - loss: 0.1722 - accuracy: 0.9482 - val_loss: 0.3841 - val_accuracy: 0.8588 - 93ms/epoch - 8ms/step\n",
            "Epoch 100/100\n",
            "11/11 - 0s - loss: 0.1716 - accuracy: 0.9497 - val_loss: 0.3719 - val_accuracy: 0.8588 - 87ms/epoch - 8ms/step\n"
          ]
        }
      ]
    },
    {
      "cell_type": "code",
      "source": [
        "import matplotlib.pyplot as plt \n",
        "fig, loss_ax = plt.subplots()\n",
        "acc_ax = loss_ax.twinx()\n",
        "\n",
        "#오차(loss) 그리기\n",
        "loss_ax.plot(history.history[\"loss\"], \"y\", label = \"train loss\")\n",
        "loss_ax.plot(history.history[\"val_loss\"], \"r\", label = \"val loss\")\n",
        "loss_ax.set_xlabel(\"epoch\")\n",
        "loss_ax.set_ylabel(\"loss\")\n",
        "loss_ax.legend(loc = \"lower right\")\n",
        "\n",
        "#accuracy(정확도) 그리기\n",
        "acc_ax.plot(history.history[\"accuracy\"], \"b\", label = \"train acc\")\n",
        "acc_ax.plot(history.history[\"val_accuracy\"], \"g\", label = \"val acc\")\n",
        "acc_ax.set_ylabel(\"accuracy\")\n",
        "acc_ax.legend(loc = \"upper right\")\n",
        "\n",
        "plt.show()"
      ],
      "metadata": {
        "colab": {
          "base_uri": "https://localhost:8080/",
          "height": 279
        },
        "id": "-Qe574fS4hgW",
        "outputId": "8ed7a07b-e2dd-4252-c49e-328ed8c36eea"
      },
      "execution_count": 12,
      "outputs": [
        {
          "output_type": "display_data",
          "data": {
            "text/plain": [
              "<Figure size 432x288 with 2 Axes>"
            ],
            "image/png": "[encoded data removed]"
          },
          "metadata": {
            "needs_background": "light"
          }
        }
      ]
    },
    {
      "cell_type": "code",
      "source": [
        "model.fit(X_train, Y_train, validation_split=0.2, epochs = 20,\n",
        "          batch_size = 64, verbose = 1)\n"
      ],
      "metadata": {
        "colab": {
          "base_uri": "https://localhost:8080/"
        },
        "id": "fSvMp35Z2K1H",
        "outputId": "8bda01fc-8fec-4863-da40-5bbc78cd546f"
      },
      "execution_count": 13,
      "outputs": [
        {
          "output_type": "stream",
          "name": "stdout",
          "text": [
            "Epoch 1/20\n",
            "11/11 [==============================] - 0s 15ms/step - loss: 0.1702 - accuracy: 0.9497 - val_loss: 0.3680 - val_accuracy: 0.8588\n",
            "Epoch 2/20\n",
            "11/11 [==============================] - 0s 23ms/step - loss: 0.1697 - accuracy: 0.9512 - val_loss: 0.3609 - val_accuracy: 0.8588\n",
            "Epoch 3/20\n",
            "11/11 [==============================] - 0s 12ms/step - loss: 0.1706 - accuracy: 0.9497 - val_loss: 0.3671 - val_accuracy: 0.8588\n",
            "Epoch 4/20\n",
            "11/11 [==============================] - 0s 20ms/step - loss: 0.1696 - accuracy: 0.9497 - val_loss: 0.3579 - val_accuracy: 0.8647\n",
            "Epoch 5/20\n",
            "11/11 [==============================] - 0s 25ms/step - loss: 0.1683 - accuracy: 0.9512 - val_loss: 0.3734 - val_accuracy: 0.8588\n",
            "Epoch 6/20\n",
            "11/11 [==============================] - 0s 10ms/step - loss: 0.1685 - accuracy: 0.9512 - val_loss: 0.3627 - val_accuracy: 0.8588\n",
            "Epoch 7/20\n",
            "11/11 [==============================] - 0s 10ms/step - loss: 0.1688 - accuracy: 0.9527 - val_loss: 0.3614 - val_accuracy: 0.8588\n",
            "Epoch 8/20\n",
            "11/11 [==============================] - 0s 8ms/step - loss: 0.1687 - accuracy: 0.9527 - val_loss: 0.3717 - val_accuracy: 0.8588\n",
            "Epoch 9/20\n",
            "11/11 [==============================] - 0s 13ms/step - loss: 0.1661 - accuracy: 0.9512 - val_loss: 0.3677 - val_accuracy: 0.8588\n",
            "Epoch 10/20\n",
            "11/11 [==============================] - 0s 10ms/step - loss: 0.1667 - accuracy: 0.9512 - val_loss: 0.3754 - val_accuracy: 0.8588\n",
            "Epoch 11/20\n",
            "11/11 [==============================] - 0s 9ms/step - loss: 0.1667 - accuracy: 0.9512 - val_loss: 0.3679 - val_accuracy: 0.8588\n",
            "Epoch 12/20\n",
            "11/11 [==============================] - 0s 14ms/step - loss: 0.1658 - accuracy: 0.9527 - val_loss: 0.3560 - val_accuracy: 0.8588\n",
            "Epoch 13/20\n",
            "11/11 [==============================] - 0s 19ms/step - loss: 0.1645 - accuracy: 0.9512 - val_loss: 0.3706 - val_accuracy: 0.8588\n",
            "Epoch 14/20\n",
            "11/11 [==============================] - 0s 19ms/step - loss: 0.1645 - accuracy: 0.9512 - val_loss: 0.3531 - val_accuracy: 0.8588\n",
            "Epoch 15/20\n",
            "11/11 [==============================] - 0s 18ms/step - loss: 0.1635 - accuracy: 0.9512 - val_loss: 0.3723 - val_accuracy: 0.8588\n",
            "Epoch 16/20\n",
            "11/11 [==============================] - 0s 20ms/step - loss: 0.1644 - accuracy: 0.9527 - val_loss: 0.3496 - val_accuracy: 0.8588\n",
            "Epoch 17/20\n",
            "11/11 [==============================] - 0s 15ms/step - loss: 0.1661 - accuracy: 0.9497 - val_loss: 0.3620 - val_accuracy: 0.8588\n",
            "Epoch 18/20\n",
            "11/11 [==============================] - 0s 11ms/step - loss: 0.1653 - accuracy: 0.9497 - val_loss: 0.3627 - val_accuracy: 0.8588\n",
            "Epoch 19/20\n",
            "11/11 [==============================] - 0s 22ms/step - loss: 0.1621 - accuracy: 0.9527 - val_loss: 0.3453 - val_accuracy: 0.8647\n",
            "Epoch 20/20\n",
            "11/11 [==============================] - 0s 18ms/step - loss: 0.1609 - accuracy: 0.9527 - val_loss: 0.3684 - val_accuracy: 0.8588\n"
          ]
        },
        {
          "output_type": "execute_result",
          "data": {
            "text/plain": [
              "<keras.callbacks.History at 0x7f460f00ae80>"
            ]
          },
          "metadata": {},
          "execution_count": 13
        }
      ]
    },
    {
      "cell_type": "code",
      "source": [
        "Y_pred = model.predict(X_test, verbose = 0)\n",
        "Y_class = np.round(Y_pred, 0)\n",
        "train_score = model.evaluate(X_train, Y_train, verbose=0)\n",
        "test_score = model.evaluate(X_test, Y_test, verbose=0)\n",
        "print(\"Y 예측값: \\n\", Y_pred[:5])\n",
        "print(\"Y 예측 클래스: \\n\", Y_class[:5])\n",
        "print(\"train accuracy : {:.3f}\".format(train_score[0], train_score[1]))\n",
        "print(\"test accuracy: {:.3f}\".format(test_score[0], test_score[1]))"
      ],
      "metadata": {
        "colab": {
          "base_uri": "https://localhost:8080/"
        },
        "id": "oayExXLg7-9M",
        "outputId": "e96747f8-9160-44d5-bead-519e1737eda3"
      },
      "execution_count": 14,
      "outputs": [
        {
          "output_type": "stream",
          "name": "stdout",
          "text": [
            "Y 예측값: \n",
            " [[0.93126047]\n",
            " [1.        ]\n",
            " [0.01772536]\n",
            " [0.01244921]\n",
            " [0.99973166]]\n",
            "Y 예측 클래스: \n",
            " [[1.]\n",
            " [1.]\n",
            " [0.]\n",
            " [0.]\n",
            " [1.]]\n",
            "train accuracy : 0.202\n",
            "test accuracy: 0.224\n"
          ]
        }
      ]
    },
    {
      "cell_type": "code",
      "source": [
        "X= df[['총매출액', '구매금액대', '1회 평균매출액', '평균 구매주기', '거래기간']]\n",
        "Y= df[\"할인민감여부\"]\n",
        "#2 train -test split\n",
        "X_train, X_test, Y_train, Y_test = train_test_split(X, Y, test_size=0.3, random_state=0)\n",
        "#3 데이터 전처리(preprocessing)\n",
        "ct =ColumnTransformer([(\"scaling\", StandardScaler(), ['총매출액', '1회 평균매출액', '평균 구매주기', '거래기간'])\n",
        ",(\"onehot\", OneHotEncoder(sparse = False), ['구매금액대'])])\n",
        "\n",
        "ct.fit(X_train)\n",
        "ct.transform(X_train)\n",
        "X_train = ct.transform(X_train)\n",
        "X_test = ct.transform(X_test)\n",
        "#4 오버샘플링\n",
        "smote = SMOTE(random_state=0)\n",
        "X_train, Y_train = smote.fit_resample(X_train, Y_train)"
      ],
      "metadata": {
        "id": "5ZGXRXQr3lxM"
      },
      "execution_count": 15,
      "outputs": []
    },
    {
      "cell_type": "code",
      "source": [
        "from sklearn.ensemble import RandomForestClassifier\n",
        "model = RandomForestClassifier(random_state=0, n_estimators = 300, max_depth =3)\n",
        "model.fit(X_train, Y_train)\n",
        "Y_pred = model.predict(X_test)\n",
        "print(\"Y predict value : \\n\", Y_pred)\n",
        "print(\"accuracy(test) : {:.3f}\".format(model.score(X_test, Y_test)))\n",
        "print(classification_report(Y_test, Y_pred))"
      ],
      "metadata": {
        "colab": {
          "base_uri": "https://localhost:8080/"
        },
        "id": "fapP7cFO3qTd",
        "outputId": "4be26c3f-0a7f-4534-f40c-b60f2509579e"
      },
      "execution_count": 16,
      "outputs": [
        {
          "output_type": "stream",
          "name": "stdout",
          "text": [
            "Y predict value : \n",
            " [1 1 0 0 1 1 0 0 0 1 0 0 1 0 1 0 1 0 0 0 0 0 0 0 0 1 0 0 0 0 1 1 1 1 0 1 1\n",
            " 0 1 0 0 1 1 1 0 0 1 0 0 0 1 0 0 0 1 1 0 0 1 1 0 1 1 0 0 0 1 0 0 0 1 0 0 0\n",
            " 1 0 0 0 0 1 0 0 0 1 1 1 0 0 0 0 1 0 0 0 0 1 1 0 0 0 1 1 0 1 0 1 1 0 1 1 0\n",
            " 1 0 0 0 0 0 0 0 0 1 0 0 1 0 1 0 0 1 1 0 0 1 1 1 1 0 1 0 1 0 0 0 0 0 1 0 0\n",
            " 1 1 0 0 0 0 0 1 0 0 0 0 1 1 0 0 1 0 0 1 0 0 0 1 0 1 0 0 0 0 1 0 0 0 0 0 1\n",
            " 0 0 1 1 1 0 1 0 1 1 1 1 0 1 0 0 0 0 1 1 0 1 0 0 1 0 0 0 0 0 1 0 0 0 1 1 1\n",
            " 1 0 0 1 1 0 0 1 0 0 0 0 0 0 0 0 0 0 0 0 0 0 1 0 1 0 1 1 0 1 0 0 0 1 1 0 0\n",
            " 0 1 1 0 0 0 0 0 0 1 0 1 0 0 0 1 1 0 0 0 0 1 1 0 1 0 0 1 0 0 0 1 0 1 1 0 0\n",
            " 0 0 0 0]\n",
            "accuracy(test) : 0.947\n",
            "              precision    recall  f1-score   support\n",
            "\n",
            "           0       0.92      0.99      0.96       177\n",
            "           1       0.99      0.88      0.93       123\n",
            "\n",
            "    accuracy                           0.95       300\n",
            "   macro avg       0.96      0.94      0.94       300\n",
            "weighted avg       0.95      0.95      0.95       300\n",
            "\n"
          ]
        }
      ]
    },
    {
      "cell_type": "code",
      "source": [
        "##1. 변수선택\n",
        "X = df[df.이탈여부 == 0][[\"방문빈도\", \"총 할인 금액\",\"고객등급\",\"구매유형\",\"거래기간\",\n",
        "                   \"할인민감여부\",\"평균 구매주기\"]]\n",
        "Y = np.log1p(df[df.이탈여부 == 0][\"1회 평균매출액\"])\n",
        "\n",
        "#2.train - test split\n",
        "X_train, X_test, Y_train, Y_test = train_test_split(X,Y,test_size=0.3, random_state=0)\n",
        "\n",
        "#3. 데이터 전처리(preprocessing)\n",
        "\n",
        "ct = ColumnTransformer([(\"scaling\", StandardScaler(),['방문빈도','총 할인 금액','평균 구매주기','거래기간']), \n",
        "                        (\"onehot\", OneHotEncoder(sparse = False),['고객등급','구매유형','할인민감여부'])])\n",
        "ct.fit(X_train)\n",
        "X_train=ct.transform(X_train)\n",
        "X_test=ct.transform(X_test)"
      ],
      "metadata": {
        "id": "Qf26TINq3qa9"
      },
      "execution_count": 17,
      "outputs": []
    },
    {
      "cell_type": "code",
      "source": [
        "#4 모형 생성\n",
        "from sklearn.ensemble import RandomForestRegressor\n",
        "model = RandomForestRegressor(random_state=0, n_estimators= 100, max_depth =4)\n",
        "\n",
        "#5 모형 예측 평가\n",
        "model.fit(X_train, Y_train)\n",
        "Y_pred = model.predict(X_test)\n",
        "print(\"Y predict value : \\n\", Y_pred)\n",
        "print(\"accuracy(R2) :{:.3f}\".format(model.score(X_train, Y_train)))\n",
        "rmse = sqrt(mean_squared_error(Y_test, Y_pred))\n",
        "print(\"RMSE :\", rmse)"
      ],
      "metadata": {
        "colab": {
          "base_uri": "https://localhost:8080/"
        },
        "id": "2zCrezb36oYR",
        "outputId": "b900c6cd-dbed-4382-daf8-59c3602a1eff"
      },
      "execution_count": 19,
      "outputs": [
        {
          "output_type": "stream",
          "name": "stdout",
          "text": [
            "Y predict value : \n",
            " [12.68641835 12.12514749 12.04819279 13.04580899 11.50906768 12.45183582\n",
            " 11.28296585 12.28747852 11.86494273 12.35358139 12.3872265  12.01396895\n",
            " 12.3207311  12.16711163 12.72553    12.43847827 12.70631401 12.74484282\n",
            " 11.93548044 12.48363036 12.70833215 11.50205816 12.3872265  12.61313248\n",
            " 11.13635832 12.85315034 12.69646319 12.2799654  12.29330952 12.07066037\n",
            " 12.7318708  13.03072124 12.44587063 12.83922589 11.99165355 11.93548044\n",
            " 12.07982016 12.87533113 11.92291372 13.17748045 12.77463562 12.29742037\n",
            " 12.44945001 12.27423314 12.44938301 12.68738612 11.47768812 12.09294686\n",
            " 12.70377324 12.45477652 11.86470087 13.58567965 11.23433862 12.13775744\n",
            " 12.70918345 12.34530688 12.67303461 12.40944139 12.28433595 12.36128948\n",
            " 12.7008786  12.57507179 12.11883138 12.44859275 12.29201016 11.82194505\n",
            " 11.91682041 11.55244151 13.0432612  12.01568152 12.38104273 11.78476895\n",
            " 11.91986181 11.77914657 12.32409993 13.20140162 12.67190941 12.99665869\n",
            " 12.1142171  12.38934131 12.44830013 11.85130823 11.62146864 12.33872321\n",
            " 12.41834094 12.57562684 12.61389742 12.58307333 11.97893936 12.7886006\n",
            " 12.44566667 12.83665563 12.52416462 12.69435424 11.85208542 13.20045678\n",
            " 12.68795836 12.34363598 12.83841044 11.86530694 12.13015281 12.47789415\n",
            " 12.79648274 11.57714474 12.34530688 12.70377324 12.7097129  11.80903595\n",
            " 12.12525283 12.39158405 11.93548044 11.91159991 12.77463562 13.27749607\n",
            " 11.90835048 12.42838125 12.4305021  12.70624967 12.42756799 12.60222681\n",
            " 12.7850141  12.7330486  12.29201016 12.44690659 12.72900137 12.33987241\n",
            " 12.29201016 11.74004955 12.64435232 11.88234549 12.22518022 11.74656619\n",
            " 13.02276793 12.48023447 11.57260802 12.19860152 12.02914855 12.12514749\n",
            " 12.52801336 11.86793119 12.37613994 11.98621908 12.60376732 11.84205569\n",
            " 12.4060907  12.65887349 12.70377324 12.86955945 12.21481438 11.93548044\n",
            " 12.39298755 12.53980087 12.52820949 12.83841044 13.44697408 11.50551893\n",
            " 11.81406502 12.74141873 12.1725461  12.63026111 12.85363402 12.71936027\n",
            " 12.71043022 12.1650898  12.42838125 12.31549503 12.72481107 11.12896519\n",
            " 12.80091372 12.42756799 11.2199162  11.91682041 11.54392968 13.43689234\n",
            " 12.29568184 12.58070977 13.67490384 12.12989976 12.26369028 12.02914855\n",
            " 13.53150447 13.28525088 12.69254338 12.73037531 12.11962384 11.82067314\n",
            " 12.34530688 12.37070547 11.11113674 12.74282441 12.37070547 12.70631401\n",
            " 13.33345279 12.2427362  11.93548044 11.89984166 12.48023447 12.2562059\n",
            " 12.96477971 11.25663245 13.06663845 12.26264044 12.1425065  11.54084965\n",
            " 12.68254816 12.13891591 12.34626734 12.4740507  12.75025303 12.48363036]\n",
            "accuracy(R2) :0.685\n",
            "RMSE : 0.4399848855851185\n"
          ]
        }
      ]
    },
    {
      "cell_type": "markdown",
      "source": [
        "#그래디언트 부스트(grident boost)"
      ],
      "metadata": {
        "id": "CzuAiZUbAsuD"
      }
    },
    {
      "cell_type": "code",
      "source": [
        "X= df[['총매출액', '구매금액대', '1회 평균매출액', '평균 구매주기', '거래기간']]\n",
        "Y= df[\"할인민감여부\"]\n",
        "#2 train -test split\n",
        "X_train, X_test, Y_train, Y_test = train_test_split(X, Y, test_size=0.3, random_state=0)\n",
        "#3 데이터 전처리(preprocessing)\n",
        "ct =ColumnTransformer([(\"scaling\", StandardScaler(), ['총매출액', '1회 평균매출액', '평균 구매주기', '거래기간'])\n",
        ",(\"onehot\", OneHotEncoder(sparse = False), ['구매금액대'])])\n",
        "\n",
        "ct.fit(X_train)\n",
        "ct.transform(X_train)\n",
        "X_train = ct.transform(X_train)\n",
        "X_test = ct.transform(X_test)\n",
        "#4 오버샘플링\n",
        "smote = SMOTE(random_state=0)\n",
        "X_train, Y_train = smote.fit_resample(X_train, Y_train)"
      ],
      "metadata": {
        "id": "jFVIWHl77tnP"
      },
      "execution_count": 20,
      "outputs": []
    },
    {
      "cell_type": "code",
      "source": [
        "#5 모형 생성\n",
        "from sklearn.ensemble import GradientBoostingClassifier\n",
        "model = GradientBoostingClassifier(random_state =0 , n_estimators = 100, max_depth = 4,\n",
        "                                   learning_rate = 0.1)\n",
        "\n",
        "#6 모형학습 예측\n",
        "model.fit(X_train, Y_train)\n",
        "Y_pred = model.predict(X_test)\n",
        "print(\"Y predict value: \\n\", Y_pred)\n",
        "print(\"accuracy(test): {:.3f}\".format(model.score(X_test, Y_test)))\n",
        "print(classification_report(Y_test, Y_pred))"
      ],
      "metadata": {
        "colab": {
          "base_uri": "https://localhost:8080/"
        },
        "id": "qCY8mkX4A8zw",
        "outputId": "158827ed-5018-483d-eee9-79e46886b708"
      },
      "execution_count": 21,
      "outputs": [
        {
          "output_type": "stream",
          "name": "stdout",
          "text": [
            "Y predict value: \n",
            " [1 1 0 0 1 1 0 0 0 1 0 0 1 0 1 0 1 0 0 0 0 0 0 0 0 1 0 0 0 0 1 1 1 1 0 1 1\n",
            " 0 1 0 0 1 1 1 0 0 1 0 0 0 1 0 0 0 1 1 0 0 1 1 0 1 1 0 0 0 1 0 0 0 1 0 0 0\n",
            " 1 0 0 0 0 1 0 0 0 1 1 1 0 0 0 0 1 0 0 0 0 1 1 0 0 0 1 1 0 1 0 1 1 0 1 1 0\n",
            " 1 0 0 0 0 0 0 0 0 1 0 0 1 0 1 0 0 1 1 0 0 1 1 1 1 0 1 0 1 0 0 0 0 0 1 0 0\n",
            " 1 1 0 1 0 0 0 1 0 0 0 0 1 1 0 0 1 0 0 1 0 0 0 1 1 1 0 0 0 0 1 0 0 0 0 0 1\n",
            " 0 0 1 1 1 0 1 0 1 1 1 1 0 1 0 0 0 0 1 1 0 1 0 0 1 0 0 1 0 0 1 0 0 0 1 1 1\n",
            " 1 0 0 1 1 0 0 1 0 0 0 0 0 0 0 0 0 0 0 0 0 0 1 0 1 0 1 1 0 1 0 0 0 1 1 0 1\n",
            " 1 1 1 0 0 0 0 0 0 1 0 1 0 0 0 1 1 0 0 0 0 1 1 0 1 0 0 1 0 0 0 1 1 1 1 0 0\n",
            " 0 0 0 0]\n",
            "accuracy(test): 0.933\n",
            "              precision    recall  f1-score   support\n",
            "\n",
            "           0       0.92      0.97      0.94       177\n",
            "           1       0.95      0.89      0.92       123\n",
            "\n",
            "    accuracy                           0.93       300\n",
            "   macro avg       0.94      0.93      0.93       300\n",
            "weighted avg       0.93      0.93      0.93       300\n",
            "\n"
          ]
        }
      ]
    },
    {
      "cell_type": "code",
      "source": [
        "##1. 변수선택\n",
        "X = df[df.이탈여부 == 0][[\"방문빈도\", \"총 할인 금액\",\"고객등급\",\"구매유형\",\"거래기간\",\n",
        "                   \"할인민감여부\",\"평균 구매주기\"]]\n",
        "Y = np.log1p(df[df.이탈여부 == 0][\"1회 평균매출액\"])\n",
        "\n",
        "#2.train - test split\n",
        "X_train, X_test, Y_train, Y_test = train_test_split(X,Y,test_size=0.3, random_state=0)\n",
        "\n",
        "#3. 데이터 전처리(preprocessing)\n",
        "\n",
        "ct = ColumnTransformer([(\"scaling\", StandardScaler(),['방문빈도','총 할인 금액','평균 구매주기','거래기간']), \n",
        "                        (\"onehot\", OneHotEncoder(sparse = False),['고객등급','구매유형','할인민감여부'])])\n",
        "ct.fit(X_train)\n",
        "X_train=ct.transform(X_train)\n",
        "X_test=ct.transform(X_test)"
      ],
      "metadata": {
        "id": "0leVw3_GCqVD"
      },
      "execution_count": 22,
      "outputs": []
    },
    {
      "cell_type": "code",
      "source": [
        "#4 모형 생성\n",
        "from sklearn.ensemble import GradientBoostingRegressor\n",
        "model = GradientBoostingRegressor(random_state =0 , n_estimators = 100, max_depth = 4,\n",
        "                                   learning_rate = 0.1)\n",
        "\n",
        "#5 모형 학습 예측\n",
        "\n",
        "#5 모형 예측 평가\n",
        "model.fit(X_train, Y_train)\n",
        "Y_pred = model.predict(X_test)\n",
        "print(\"Y predict value : \\n\", Y_pred)\n",
        "print(\"accuracy(R2) :{:.3f}\".format(model.score(X_train, Y_train)))\n",
        "rmse = sqrt(mean_squared_error(Y_test, Y_pred))\n",
        "print(\"RMSE :\", rmse)"
      ],
      "metadata": {
        "colab": {
          "base_uri": "https://localhost:8080/"
        },
        "id": "D1YxlQElCsE4",
        "outputId": "6c98038c-dc36-4c75-d8b9-a0436b530e59"
      },
      "execution_count": 23,
      "outputs": [
        {
          "output_type": "stream",
          "name": "stdout",
          "text": [
            "Y predict value : \n",
            " [12.64617366 12.25583406 12.09458751 13.07090617 11.40422303 12.45220348\n",
            " 11.61198904 12.45651119 12.08328814 12.32640447 12.39533751 12.25092541\n",
            " 12.13577357 12.24057416 12.73503493 12.30862805 12.84361351 12.99742565\n",
            " 11.76512764 12.45752565 12.63483127 11.38579233 12.41560355 12.50712961\n",
            " 10.79435548 12.62928969 12.60613938 11.92964399 12.34916462 12.07520652\n",
            " 12.57121312 13.04335327 12.39965923 13.03165827 12.11711146 12.09888134\n",
            " 12.18727902 12.94489209 11.93717047 13.15827429 12.76957258 12.21597158\n",
            " 12.54049819 12.10678757 12.64544285 12.59000213 11.18198188 12.13358256\n",
            " 12.5668075  12.42634623 11.81913361 13.51669361 11.10458182 12.24715891\n",
            " 13.07232151 12.20069308 12.66489797 12.28476526 11.98447614 12.31654311\n",
            " 12.79736561 12.76535462 11.92863698 12.44145179 12.12157567 12.10310068\n",
            " 11.87519738 11.62364672 12.99672955 12.27936785 12.36258046 11.72329704\n",
            " 11.91861812 11.96233767 12.16868105 13.12437922 12.65319979 12.93053239\n",
            " 12.03260309 12.28389237 12.0000299  11.89763423 11.5329378  13.0053158\n",
            " 12.40440044 12.64050116 12.73633832 12.62223461 11.7388871  12.59385993\n",
            " 12.46170754 13.27233418 12.49065444 12.99839492 11.98770272 13.31580316\n",
            " 13.01839043 12.06375631 12.80479374 11.98398262 11.65401981 12.2787555\n",
            " 12.73424086 11.43216014 12.24460123 12.8969792  12.85568613 11.95915872\n",
            " 12.04694305 12.60039447 12.01332333 11.79424302 12.69414998 13.32348351\n",
            " 11.70900777 12.09118735 12.18245925 12.88276381 12.17369179 12.50951424\n",
            " 12.72249627 12.59981937 12.17592955 12.74111678 12.65434081 12.24543644\n",
            " 12.44711341 11.5965925  12.74178554 11.8160437  12.76149045 11.7436314\n",
            " 13.03109978 12.47939971 11.51054282 12.14448715 11.47094125 12.11272934\n",
            " 12.91853515 11.72347747 12.41600997 12.02868338 12.60354515 11.74879952\n",
            " 12.58826994 12.63427503 12.89215104 12.73329149 12.58830131 11.88571084\n",
            " 12.44993728 12.89737544 12.4613579  12.89249471 13.5359721  11.48000074\n",
            " 11.50736548 12.67931101 12.15982715 12.60083252 13.03940439 12.73213993\n",
            " 12.75970949 11.94740293 12.66238056 12.38212172 12.7089022  11.21000233\n",
            " 12.72847666 12.15336244 11.21970406 11.8446597  11.90096849 13.44263801\n",
            " 12.35228515 12.60249735 13.83729506 11.86136594 12.62050958 11.25707904\n",
            " 13.54480221 13.448205   12.66406609 12.70937335 12.05683865 11.94755448\n",
            " 12.37945452 12.37595316 10.65869553 13.10374396 12.37640418 12.58991922\n",
            " 13.19704136 12.59201926 11.85361937 12.02339775 12.40938986 11.80883328\n",
            " 13.01162095 11.53925824 13.19678706 12.58870571 12.0776148  11.41688057\n",
            " 12.70617545 11.84467509 12.43060262 12.42450198 12.90302905 12.54130517]\n",
            "accuracy(R2) :0.916\n",
            "RMSE : 0.41204398975179507\n"
          ]
        }
      ]
    }
  ]
}